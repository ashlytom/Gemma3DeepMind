{
 "cells": [
  {
   "cell_type": "markdown",
   "metadata": {},
   "source": [
    "# Setting up the environment:\n",
    "\n",
    "#### Using uv:\n",
    "!uv venv \"gemmatest\"\n",
    "\n",
    "#### Install ipykernel for using jypyternotes:\n",
    "!uv pip install ipykernel"
   ]
  },
  {
   "cell_type": "markdown",
   "metadata": {},
   "source": [
    "Now our environment \"gemmatest\" is setup.\n",
    "\n",
    "To start :\n",
    "\n",
    "gemmatest/Scripts/activate"
   ]
  },
  {
   "cell_type": "code",
   "execution_count": 1,
   "metadata": {},
   "outputs": [
    {
     "name": "stdout",
     "output_type": "stream",
     "text": [
      "Hello! Im being printed in the new env 'Gemmatest' \n"
     ]
    }
   ],
   "source": [
    "print(\"Hello! Im being printed in the new env 'Gemmatest' \")"
   ]
  },
  {
   "cell_type": "markdown",
   "metadata": {},
   "source": [
    "# Setting up Gemma\n",
    "\n",
    "!uv pip install gemma\n",
    "\n",
    "So some notes here, apparently the standard version of the \"pip install gemma\" doesnt work, so i would suggest using the \"pip install +repolink\" method- Also raised this issue in their github - https://github.com/google-deepmind/gemma/issues/252\n",
    "\n",
    "!uv pip install \"gemma[test] @ git+https://github.com/google-deepmind/gemma.git\"\n",
    "\n",
    "Also kauldron also has the same issue:\n",
    "\n",
    "!uv pip install --upgrade git+https://github.com/google-research/kauldron.git"
   ]
  },
  {
   "cell_type": "code",
   "execution_count": 2,
   "metadata": {},
   "outputs": [],
   "source": [
    "from gemma import gm"
   ]
  },
  {
   "cell_type": "code",
   "execution_count": null,
   "metadata": {},
   "outputs": [
    {
     "name": "stderr",
     "output_type": "stream",
     "text": [
      "/Users/ashly/MahindraWork/gemmaft/gemmatest/lib/python3.11/site-packages/tqdm/auto.py:21: TqdmWarning: IProgress not found. Please update jupyter and ipywidgets. See https://ipywidgets.readthedocs.io/en/stable/user_install.html\n",
      "  from .autonotebook import tqdm as notebook_tqdm\n",
      "2025-04-08 20:59:42.769976: W external/local_xla/xla/tsl/platform/cloud/google_auth_provider.cc:184] All attempts to get a Google authentication bearer token failed, returning an empty token. Retrieving token from files failed with \"NOT_FOUND: Could not locate the credentials file.\". Retrieving token from GCE failed with \"FAILED_PRECONDITION: Error executing an HTTP request: libcurl code 6 meaning 'Could not resolve hostname', error details: Could not resolve host: metadata.google.internal\".\n",
      "E0408 20:59:57.347444 11565604 google_auth_provider.cc:188] Could not find the credentials file in the standard gcloud location [/Users/ashly/.config/gcloud/application_default_credentials.json]. You may specify a credentials file using $GOOGLE_APPLICATION_CREDENTIALS, or to use Google application default credentials, run: gcloud auth application-default login\n",
      "WARNING:absl:[process=0][thread=MainThread] No metadata found for any process_index, checkpoint_dir=gs://gemma-data/checkpoints/gemma3-1b-it. time elapsed=7.521667957305908 seconds. If the checkpoint does not contain jax.Array then it is expected. If checkpoint contains jax.Array then it should lead to an error eventually; if no error is raised then it is a bug.\n"
     ]
    }
   ],
   "source": [
    "model = gm.nn.Gemma3_1B() # rasied issue on this  https://github.com/google/grain/issues/803\n",
    "params = gm.ckpts.load_params(gm.ckpts.CheckpointPath.GEMMA3_1B_IT)"
   ]
  },
  {
   "cell_type": "code",
   "execution_count": null,
   "metadata": {},
   "outputs": [],
   "source": []
  },
  {
   "cell_type": "code",
   "execution_count": null,
   "metadata": {},
   "outputs": [],
   "source": []
  }
 ],
 "metadata": {
  "kernelspec": {
   "display_name": "gemmatest",
   "language": "python",
   "name": "python3"
  },
  "language_info": {
   "codemirror_mode": {
    "name": "ipython",
    "version": 3
   },
   "file_extension": ".py",
   "mimetype": "text/x-python",
   "name": "python",
   "nbconvert_exporter": "python",
   "pygments_lexer": "ipython3",
   "version": "3.11.11"
  }
 },
 "nbformat": 4,
 "nbformat_minor": 2
}
