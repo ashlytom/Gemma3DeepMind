{
 "cells": [
  {
   "cell_type": "markdown",
   "metadata": {},
   "source": [
    "## This model uses locally avaliable Gemma3"
   ]
  },
  {
   "cell_type": "code",
   "execution_count": 4,
   "metadata": {},
   "outputs": [
    {
     "name": "stdout",
     "output_type": "stream",
     "text": [
      "The capital of India is **New Delhi**. \n",
      "\n",
      "It’s located in the northern part of the country. 😊\n",
      "\n"
     ]
    }
   ],
   "source": [
    "from ollama import chat\n",
    "\n",
    "response = chat(\n",
    "    model = \"gemma3:1b\",\n",
    "    messages = [\n",
    "        {\"role\":\"user\",\n",
    "         \"content\":\"What is the captial of india\",\n",
    "         },\n",
    "         ]\n",
    "\n",
    ")\n",
    "print(response.message.content)"
   ]
  },
  {
   "cell_type": "markdown",
   "metadata": {},
   "source": [
    "## Streaming"
   ]
  },
  {
   "cell_type": "code",
   "execution_count": 9,
   "metadata": {},
   "outputs": [
    {
     "name": "stdout",
     "output_type": "stream",
     "text": [
      "The capital of India is **New Delhi**. \n",
      "\n",
      "It’s a bit complicated because New Delhi is a dual capital – the administrative capital and the cultural capital. \n",
      "\n",
      "Here's a breakdown:\n",
      "\n",
      "*   **Administrative Capital:** New Delhi is the seat of the Indian government and is the center of national policy.\n",
      "*   **Cultural Capital:** Delhi is a major center for art, culture, and history.\n",
      "\n"
     ]
    }
   ],
   "source": [
    "from ollama import chat\n",
    "\n",
    "response = chat(\n",
    "    model = \"gemma3:1b\",\n",
    "    messages = [\n",
    "        {\"role\":\"user\",\n",
    "         \"content\":\"What is the captial of india\",\n",
    "         },\n",
    "         ],\n",
    "         stream = True\n",
    "\n",
    ")\n",
    "\n",
    "for r in response:\n",
    "    print(r['message']['content'], end = \"\", flush=True)"
   ]
  },
  {
   "cell_type": "markdown",
   "metadata": {},
   "source": [
    "## Continous conversation"
   ]
  },
  {
   "cell_type": "code",
   "execution_count": 11,
   "metadata": {},
   "outputs": [
    {
     "name": "stdout",
     "output_type": "stream",
     "text": [
      "Great! It’s good to hear you’re enjoying it. 😊 \n",
      "\n",
      "Is there anything you’d like to do or talk about?Okay, let's break down what a quasar is. Here’s a breakdown of what they are, in a way that’s hopefully clear and comprehensive:\n",
      "\n",
      "**What is a Quasar?**\n",
      "\n",
      "A quasar (pronounced “kwah-sure”) is a *supermassive* object at the center of a galaxy – meaning it’s incredibly massive and sits at the very heart of a galaxy.  Think of it as a cosmic lighthouse.\n",
      "\n",
      "**Here's a more detailed explanation:**\n",
      "\n",
      "1. **Supermassive Black Hole:** At the heart of most, if not all, galaxies, there’s a supermassive black hole (SMBH) – a region of spacetime with a tremendous amount of mass concentrated into a tiny space.\n",
      "\n",
      "2. **Accretion Disk:** Quasars are powered by the relentless movement of gas and dust spiraling into this supermassive black hole. As this material gets pulled closer, it forms a rapidly rotating disk around the black hole called an accretion disk. \n",
      "\n",
      "3. **Extreme Energy Release:** This swirling disk is what causes the immense brightness. As the material spirals inward, it gets incredibly hot – reaching temperatures of millions of degrees Celsius.  This extreme heat causes the material to radiate out into space at tremendous speeds, creating the incredibly powerful and visible light and radio waves we detect as quasars.\n",
      "\n",
      "4. **\"Amplified\" Light:**  Because of the immense gravity, the accretion disk dramatically amplifies the light from the central black hole.  This amplified light is what makes quasars so bright.\n",
      "\n",
      "**Key Characteristics of Quasars:**\n",
      "\n",
      "* **Extremely Bright:**  They are some of the brightest objects in the universe, often appearing as “quasi-stellar” objects – faintly glowing points of light.\n",
      "* **Distance:** Quasars are incredibly far away, located billions of light-years away from Earth.\n",
      "* **Spectrum:** Quasars have a narrow, broad spectrum, meaning they emit light across a very limited range of wavelengths. This is due to the intense energy released and the high temperatures within the accretion disk.\n",
      "* **Radio and Optical Dominance:** While they emit a lot of light, quasars often dominate the electromagnetic spectrum (particularly the radio and optical parts) with the most intense radiation.\n",
      "\n",
      "**Types of Quasars:**\n",
      "\n",
      "* **Type 1 Quasars:** These are the most common type, powered by accretion disks around supermassive black holes. They’re the most studied.\n",
      "* **Type 2 Quasars:** These are thought to be related to rapid stellar feedback – when massive stars undergo supernova explosions, the energy released can sometimes trigger intense outflows that accelerate gas and create a strong quasar.\n",
      "\n",
      "\n",
      "**Where are they found?**\n",
      "\n",
      "Quasars are mainly found in:\n",
      "\n",
      "* **The Centers of Galaxies:**  They are most abundant in spiral galaxies, like our own Milky Way.\n",
      "* **Dwarf Galaxies:** Some quasars originate from small, low-luminosity galaxies that are gravitationally influenced by larger galaxies.\n",
      "\n",
      "**In short, a quasar is a luminous region powered by the extreme gravity of a supermassive black hole, emitting vast amounts of energy across the electromagnetic spectrum.**\n",
      "\n",
      "---\n",
      "\n",
      "**Do you have any specific aspects of quasars you'd like me to elaborate on?  For example, would you like me to:**\n",
      "\n",
      "*   Explain the role of dark matter?\n",
      "*   Compare quasars to other types of astronomical objects?"
     ]
    }
   ],
   "source": [
    "from ollama import chat\n",
    "\n",
    "while True:\n",
    "    user_input = input(\">>\")\n",
    "    if user_input.lower() == \"exit\":\n",
    "        break\n",
    "    response = chat(model = \"gemma3:1b\" , messages= [ {\"role\":\"user\",\"content\":\"This is your knowledge base\"},\n",
    "                                                     {\"role\":\"user\",\"content\":user_input}] , stream  = True)\n",
    "\n",
    "    for r in response:\n",
    "        print(r[\"message\"][\"content\"], end = \"\", flush = True)\n"
   ]
  },
  {
   "cell_type": "markdown",
   "metadata": {},
   "source": [
    "## Lets look at how to use from a server setup"
   ]
  },
  {
   "cell_type": "code",
   "execution_count": null,
   "metadata": {},
   "outputs": [],
   "source": []
  }
 ],
 "metadata": {
  "kernelspec": {
   "display_name": "gemmatest",
   "language": "python",
   "name": "python3"
  },
  "language_info": {
   "codemirror_mode": {
    "name": "ipython",
    "version": 3
   },
   "file_extension": ".py",
   "mimetype": "text/x-python",
   "name": "python",
   "nbconvert_exporter": "python",
   "pygments_lexer": "ipython3",
   "version": "3.11.11"
  }
 },
 "nbformat": 4,
 "nbformat_minor": 2
}
